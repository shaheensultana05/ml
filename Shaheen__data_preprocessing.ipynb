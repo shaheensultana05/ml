{
  "nbformat": 4,
  "nbformat_minor": 0,
  "metadata": {
    "colab": {
      "provenance": []
    },
    "kernelspec": {
      "name": "python3",
      "display_name": "Python 3"
    }
  },
  "cells": [
    {
      "cell_type": "markdown",
      "metadata": {
        "id": "37puETfgRzzg"
      },
      "source": [
        "# Data Preprocessing | IBM SkillsBuild Internship"
      ]
    },
    {
      "cell_type": "markdown",
      "metadata": {
        "id": "EoRP98MpR-qj"
      },
      "source": [
        "## Import the required libraries"
      ]
    },
    {
      "cell_type": "code",
      "source": [
        "import numpy as np\n",
        "import pandas as pd\n",
        "import matplotlib.pyplot as plt\n",
        "\n"
      ],
      "metadata": {
        "id": "rNOYiy8ZDCBE"
      },
      "execution_count": 1,
      "outputs": []
    },
    {
      "cell_type": "markdown",
      "metadata": {
        "id": "RopL7tUZSQkT"
      },
      "source": [
        "## Import the dataset"
      ]
    },
    {
      "cell_type": "code",
      "source": [
        "dataset=pd.read_csv('/content/Data .csv')\n",
        "x=dataset.iloc[:,:-1].values\n",
        "y=dataset.iloc[:,-1].values\n",
        "print(x)\n",
        "print(y)"
      ],
      "metadata": {
        "colab": {
          "base_uri": "https://localhost:8080/"
        },
        "id": "AbOCbUZ1DmIO",
        "outputId": "2545309f-24e2-42cc-b6a0-6b4f59352c55"
      },
      "execution_count": 12,
      "outputs": [
        {
          "output_type": "stream",
          "name": "stdout",
          "text": [
            "[['India' 44.0 72000.0]\n",
            " ['Thailand ' 27.0 48000.0]\n",
            " ['Indonesia' 30.0 54000.0]\n",
            " ['China' 38.0 61000.0]\n",
            " ['India' 40.0 nan]\n",
            " ['China' 35.0 58000.0]\n",
            " ['Thailand ' nan 52000.0]\n",
            " ['India' 48.0 79000.0]\n",
            " ['Indonesia' 50.0 83000.0]\n",
            " ['Thailand ' 37.0 67000.0]\n",
            " ['India' 25.0 nan]\n",
            " ['Thailand ' 36.0 60000.0]\n",
            " ['Indonesia' 42.0 64000.0]\n",
            " ['India' nan 40000.0]\n",
            " ['Thailand ' 52.0 90000.0]\n",
            " ['Indonesia' nan 55000.0]\n",
            " ['China' 41.0 nan]\n",
            " ['India' 29.0 48000.0]\n",
            " ['China' 43.0 70000.0]]\n",
            "['No' 'Yes' 'No' 'No' 'Yes' 'Yes' 'No' 'Yes' 'No' 'Yes' 'No' 'No' 'Yes'\n",
            " 'Yes' 'Yes' 'No' 'Yes' 'No' 'Yes']\n"
          ]
        }
      ]
    },
    {
      "cell_type": "markdown",
      "metadata": {
        "id": "nhfKXNxlSabC"
      },
      "source": [
        "## Solving for missing data"
      ]
    },
    {
      "cell_type": "code",
      "source": [
        "from sklearn.impute import SimpleImputer\n",
        "#Replace missing values using a descriptive statistic (e.g. mean, median, or most frequent) along each column, or using a constant value.\n",
        "imputer=SimpleImputer(missing_values=np.nan,strategy='mean')\n",
        "imputer.fit(x[:,1:3])\n",
        "x[:,1:3]=imputer.transform(x[:,1:3])\n",
        "print(x)"
      ],
      "metadata": {
        "id": "YKwte5r5NKQt",
        "outputId": "e5d7b0d0-058a-47a1-ad10-bd71dab2f38d",
        "colab": {
          "base_uri": "https://localhost:8080/"
        }
      },
      "execution_count": 15,
      "outputs": [
        {
          "output_type": "stream",
          "name": "stdout",
          "text": [
            "[['India' 44.0 72000.0]\n",
            " ['Thailand ' 27.0 48000.0]\n",
            " ['Indonesia' 30.0 54000.0]\n",
            " ['China' 38.0 61000.0]\n",
            " ['India' 40.0 62562.5]\n",
            " ['China' 35.0 58000.0]\n",
            " ['Thailand ' 38.5625 52000.0]\n",
            " ['India' 48.0 79000.0]\n",
            " ['Indonesia' 50.0 83000.0]\n",
            " ['Thailand ' 37.0 67000.0]\n",
            " ['India' 25.0 62562.5]\n",
            " ['Thailand ' 36.0 60000.0]\n",
            " ['Indonesia' 42.0 64000.0]\n",
            " ['India' 38.5625 40000.0]\n",
            " ['Thailand ' 52.0 90000.0]\n",
            " ['Indonesia' 38.5625 55000.0]\n",
            " ['China' 41.0 62562.5]\n",
            " ['India' 29.0 48000.0]\n",
            " ['China' 43.0 70000.0]]\n"
          ]
        }
      ]
    },
    {
      "cell_type": "markdown",
      "metadata": {
        "id": "CriG6VzVSjcK"
      },
      "source": [
        "## Encoding categorical data"
      ]
    },
    {
      "cell_type": "markdown",
      "metadata": {
        "id": "AhSpdQWeSsFh"
      },
      "source": [
        "### Encoding the Independent Variable"
      ]
    },
    {
      "cell_type": "code",
      "source": [
        "from sklearn.compose import ColumnTransformer #india china thailand indonesia into binary form like 1000,0010,0001,0100\n",
        "from sklearn.preprocessing import OneHotEncoder\n",
        "ct=ColumnTransformer(transformers=[('encoder',OneHotEncoder(),[0])],remainder='passthrough')\n",
        "x=np.array(ct.fit_transform(x))#fit and transform data\n",
        "print(x)"
      ],
      "metadata": {
        "id": "d6bgiVXOOcZU",
        "outputId": "48ee3a8c-709f-430c-e8db-2cb5d5f24d91",
        "colab": {
          "base_uri": "https://localhost:8080/"
        }
      },
      "execution_count": 17,
      "outputs": [
        {
          "output_type": "stream",
          "name": "stdout",
          "text": [
            "[[1.0 0.0 1.0 0.0 0.0 44.0 72000.0]\n",
            " [1.0 0.0 0.0 0.0 1.0 27.0 48000.0]\n",
            " [1.0 0.0 0.0 1.0 0.0 30.0 54000.0]\n",
            " [0.0 1.0 0.0 0.0 0.0 38.0 61000.0]\n",
            " [1.0 0.0 1.0 0.0 0.0 40.0 62562.5]\n",
            " [0.0 1.0 0.0 0.0 0.0 35.0 58000.0]\n",
            " [1.0 0.0 0.0 0.0 1.0 38.5625 52000.0]\n",
            " [1.0 0.0 1.0 0.0 0.0 48.0 79000.0]\n",
            " [1.0 0.0 0.0 1.0 0.0 50.0 83000.0]\n",
            " [1.0 0.0 0.0 0.0 1.0 37.0 67000.0]\n",
            " [1.0 0.0 1.0 0.0 0.0 25.0 62562.5]\n",
            " [1.0 0.0 0.0 0.0 1.0 36.0 60000.0]\n",
            " [1.0 0.0 0.0 1.0 0.0 42.0 64000.0]\n",
            " [1.0 0.0 1.0 0.0 0.0 38.5625 40000.0]\n",
            " [1.0 0.0 0.0 0.0 1.0 52.0 90000.0]\n",
            " [1.0 0.0 0.0 1.0 0.0 38.5625 55000.0]\n",
            " [0.0 1.0 0.0 0.0 0.0 41.0 62562.5]\n",
            " [1.0 0.0 1.0 0.0 0.0 29.0 48000.0]\n",
            " [0.0 1.0 0.0 0.0 0.0 43.0 70000.0]]\n"
          ]
        }
      ]
    },
    {
      "cell_type": "markdown",
      "metadata": {
        "id": "DXh8oVSITIc6"
      },
      "source": [
        "### Encoding the Dependent Variable"
      ]
    },
    {
      "cell_type": "code",
      "source": [
        "from sklearn.preprocessing import LabelEncoder #converting yes to 1 and no to 0\n",
        "le=LabelEncoder()\n",
        "y=le.fit_transform(y)\n",
        "print(y)"
      ],
      "metadata": {
        "id": "7hYto9CkSr79",
        "outputId": "862676f0-7bee-4f50-fd7e-7e1ae6a97b90",
        "colab": {
          "base_uri": "https://localhost:8080/"
        }
      },
      "execution_count": 21,
      "outputs": [
        {
          "output_type": "stream",
          "name": "stdout",
          "text": [
            "[0 1 0 0 1 1 0 1 0 1 0 0 1 1 1 0 1 0 1]\n"
          ]
        }
      ]
    },
    {
      "cell_type": "markdown",
      "metadata": {
        "id": "qb_vcgm3qZKW"
      },
      "source": [
        "## Splitting the dataset into the Training set and Test set"
      ]
    },
    {
      "cell_type": "code",
      "source": [
        "from sklearn.model_selection import train_test_split\n",
        "x_train, x_test, y_train, y_test=train_test_split(x,y,test_size=0.2,random_state=0)\n",
        "print(x_train)\n",
        "print(\"\")\n",
        "print(x_test)\n",
        "print(\"\")\n",
        "print(y_train)\n",
        "print(\"\")\n",
        "print(y_test)"
      ],
      "metadata": {
        "id": "RQxvPRqlgEkW",
        "outputId": "7d79de5e-e786-4d7c-f823-745974130702",
        "colab": {
          "base_uri": "https://localhost:8080/"
        }
      },
      "execution_count": 31,
      "outputs": [
        {
          "output_type": "stream",
          "name": "stdout",
          "text": [
            "[[1.0 0.0 0.0 0.0 1.0 52.0 90000.0]\n",
            " [0.0 1.0 0.0 0.0 0.0 41.0 62562.5]\n",
            " [1.0 0.0 0.0 0.0 1.0 38.5625 52000.0]\n",
            " [1.0 0.0 1.0 0.0 0.0 40.0 62562.5]\n",
            " [1.0 0.0 0.0 1.0 0.0 30.0 54000.0]\n",
            " [0.0 1.0 0.0 0.0 0.0 35.0 58000.0]\n",
            " [1.0 0.0 1.0 0.0 0.0 38.5625 40000.0]\n",
            " [1.0 0.0 0.0 0.0 1.0 37.0 67000.0]\n",
            " [1.0 0.0 1.0 0.0 0.0 48.0 79000.0]\n",
            " [1.0 0.0 1.0 0.0 0.0 29.0 48000.0]\n",
            " [1.0 0.0 0.0 0.0 1.0 36.0 60000.0]\n",
            " [0.0 1.0 0.0 0.0 0.0 38.0 61000.0]\n",
            " [1.0 0.0 1.0 0.0 0.0 44.0 72000.0]\n",
            " [1.0 0.0 0.0 1.0 0.0 38.5625 55000.0]\n",
            " [1.0 0.0 0.0 1.0 0.0 42.0 64000.0]]\n",
            "\n",
            "[[1.0 0.0 1.0 0.0 0.0 25.0 62562.5]\n",
            " [1.0 0.0 0.0 0.0 1.0 27.0 48000.0]\n",
            " [1.0 0.0 0.0 1.0 0.0 50.0 83000.0]\n",
            " [0.0 1.0 0.0 0.0 0.0 43.0 70000.0]]\n",
            "\n",
            "[1 1 0 1 0 1 1 1 1 0 0 0 0 0 1]\n",
            "\n",
            "[0 1 0 1]\n"
          ]
        }
      ]
    },
    {
      "cell_type": "markdown",
      "metadata": {
        "id": "TpGqbS4TqkIR"
      },
      "source": [
        "## Feature Scaling"
      ]
    },
    {
      "cell_type": "code",
      "source": [
        "from sklearn.preprocessing import StandardScaler\n",
        "sc=StandardScaler()\n",
        "x_train=sc.fit_transform(x_train)\n",
        "x_test=sc.transform(x_test)\n",
        "print(x_train)\n",
        "print(\"\")\n",
        "print(x_test)"
      ],
      "metadata": {
        "id": "qqPO2CwajtpP",
        "outputId": "d5f2d48a-737a-4db7-d7a0-95cd23486d3a",
        "colab": {
          "base_uri": "https://localhost:8080/"
        }
      },
      "execution_count": 32,
      "outputs": [
        {
          "output_type": "stream",
          "name": "stdout",
          "text": [
            "[[ 0.5        -0.5        -0.70710678 -0.5         1.6583124   2.22042763\n",
            "   2.385368  ]\n",
            " [-2.          2.         -0.70710678 -0.5        -0.60302269  0.31534835\n",
            "   0.07474013]\n",
            " [ 0.5        -0.5        -0.70710678 -0.5         1.6583124  -0.1067999\n",
            "  -0.81477265]\n",
            " [ 0.5        -0.5         1.41421356 -0.5        -0.60302269  0.14215933\n",
            "   0.07474013]\n",
            " [ 0.5        -0.5        -0.70710678  2.         -0.60302269 -1.58973093\n",
            "  -0.6463442 ]\n",
            " [-2.          2.         -0.70710678 -0.5        -0.60302269 -0.7237858\n",
            "  -0.30948729]\n",
            " [ 0.5        -0.5         1.41421356 -0.5        -0.60302269 -0.1067999\n",
            "  -1.82534339]\n",
            " [ 0.5        -0.5        -0.70710678 -0.5         1.6583124  -0.37740775\n",
            "   0.44844076]\n",
            " [ 0.5        -0.5         1.41421356 -0.5        -0.60302269  1.52767153\n",
            "   1.4590115 ]\n",
            " [ 0.5        -0.5         1.41421356 -0.5        -0.60302269 -1.76291995\n",
            "  -1.15162956]\n",
            " [ 0.5        -0.5        -0.70710678 -0.5         1.6583124  -0.55059678\n",
            "  -0.14105883]\n",
            " [-2.          2.         -0.70710678 -0.5        -0.60302269 -0.20421873\n",
            "  -0.0568446 ]\n",
            " [ 0.5        -0.5         1.41421356 -0.5        -0.60302269  0.83491543\n",
            "   0.8695119 ]\n",
            " [ 0.5        -0.5        -0.70710678  2.         -0.60302269 -0.1067999\n",
            "  -0.56212997]\n",
            " [ 0.5        -0.5        -0.70710678  2.         -0.60302269  0.48853738\n",
            "   0.19579808]]\n",
            "\n",
            "[[ 0.5        -0.5         1.41421356 -0.5        -0.60302269 -2.45567606\n",
            "   0.07474013]\n",
            " [ 0.5        -0.5        -0.70710678 -0.5         1.6583124  -2.10929801\n",
            "  -1.15162956]\n",
            " [ 0.5        -0.5        -0.70710678  2.         -0.60302269  1.87404958\n",
            "   1.79586841]\n",
            " [-2.          2.         -0.70710678 -0.5        -0.60302269  0.6617264\n",
            "   0.70108345]]\n"
          ]
        }
      ]
    }
  ]
}